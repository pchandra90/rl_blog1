{
 "cells": [
  {
   "cell_type": "markdown",
   "metadata": {},
   "source": [
    "# Intuition of Reinforcement Learning\n",
    "\n",
    "This notebook is part of Intuition of Reinforcement Learning blog. It has solved shortest path problem of simple graph using reinforcement learning, Q-Learning algorithm. "
   ]
  },
  {
   "cell_type": "markdown",
   "metadata": {},
   "source": [
    "### Important imports"
   ]
  },
  {
   "cell_type": "code",
   "execution_count": 1,
   "metadata": {
    "colab": {
     "base_uri": "https://localhost:8080/",
     "height": 34
    },
    "colab_type": "code",
    "executionInfo": {
     "elapsed": 8649,
     "status": "ok",
     "timestamp": 1557826762892,
     "user": {
      "displayName": "Prakash Chandra",
      "photoUrl": "https://lh6.googleusercontent.com/-bMn3q1CKf50/AAAAAAAAAAI/AAAAAAAAAS4/ZSA6v-NHhS4/s64/photo.jpg",
      "userId": "10422130858424396378"
     },
     "user_tz": 420
    },
    "id": "1j7CtIoSTkHl",
    "outputId": "d1d71692-33f7-4341-ee8f-925a268c3ff4"
   },
   "outputs": [
    {
     "name": "stdout",
     "output_type": "stream",
     "text": [
      "Requirement already satisfied: texttable in c:\\users\\admin\\anaconda3\\lib\\site-packages (1.6.1)\n"
     ]
    }
   ],
   "source": [
    "!pip install texttable\n",
    "from texttable import Texttable\n",
    "import json\n",
    "from operator import itemgetter"
   ]
  },
  {
   "cell_type": "markdown",
   "metadata": {},
   "source": [
    "### Initiate state parameters\n",
    "\n",
    "Function in next cell will be used to initiate state parameters for given state connection"
   ]
  },
  {
   "cell_type": "code",
   "execution_count": 2,
   "metadata": {
    "colab": {},
    "colab_type": "code",
    "id": "xj0GB9w7Z12w"
   },
   "outputs": [],
   "source": [
    "def get_actions_rewards_next_state_q_value_dict(state_connections):\n",
    "  \"\"\"\n",
    "  state_connections: list of tuple, tuple = (next_state, rewards)\n",
    "  return: dict\n",
    "  \n",
    "  e.g. of return dict:\n",
    "  {\n",
    "    'actions': [1, 2],\n",
    "    'value_function': 0,\n",
    "    'action_for_vf': 0,\n",
    "    1        : {\n",
    "                  'next_state': 3,\n",
    "                  'rewards': -10,\n",
    "                  'q_value': 0\n",
    "               }\n",
    "    2        : {\n",
    "                  'next_state': 5,\n",
    "                  'rewards': -15,\n",
    "                  'q_value': 0\n",
    "               }\n",
    "  }\n",
    "  \"\"\"\n",
    "  dic = dict()\n",
    "  dic['actions'] = [i for i in range(1, len(state_connections)+1)]\n",
    "  dic['value_function'] = 0\n",
    "  dic['action_for_vf'] = 1\n",
    "  for action in dic['actions']:\n",
    "    dic[action] = dict()\n",
    "    dic[action]['next_state'] = state_connections[action-1][0]\n",
    "    dic[action]['rewards'] = state_connections[action-1][1]\n",
    "    dic[action]['q_value'] = 0\n",
    "  return dic"
   ]
  },
  {
   "cell_type": "markdown",
   "metadata": {},
   "source": [
    "### Graph\n",
    "\n",
    "<img src=\"./images/shortest_path.PNG\">\n",
    "\n",
    "Function in next cell create above graph, which we have to solve to find shortest path."
   ]
  },
  {
   "cell_type": "code",
   "execution_count": 3,
   "metadata": {
    "colab": {},
    "colab_type": "code",
    "id": "WFrnY9pLUg5r"
   },
   "outputs": [],
   "source": [
    "def get_state():\n",
    "  state = dict()\n",
    "  state['states'] = [1, 2, 3, 4, 5]\n",
    "  state[1] = get_actions_rewards_next_state_q_value_dict([(5, -18), (3, -9), (2, -7)])\n",
    "  state[2] = get_actions_rewards_next_state_q_value_dict([(4, -19), (3, -10), (1, -7)])\n",
    "  state[3] = get_actions_rewards_next_state_q_value_dict([(5, -2), (4, -11), (2, -10), (1, -9)])\n",
    "  state[4] = get_actions_rewards_next_state_q_value_dict([(6, -6), (3, -11), (2, -19)])\n",
    "  state[5] = get_actions_rewards_next_state_q_value_dict([(6, -8), (3, -2), (1, -18)])\n",
    "  state[6] = get_actions_rewards_next_state_q_value_dict([])\n",
    "\n",
    "  # print(json.dumps(state, sort_keys=False, indent=4))\n",
    "  return state"
   ]
  },
  {
   "cell_type": "markdown",
   "metadata": {},
   "source": [
    "### Q-Learning update\n",
    "\n",
    "Following function will do Q-learning update as follows.\n",
    "\n",
    "\n",
    "$Q(s, a) = R(s, a) + V(s'), \\text{ Q-value for state } s \\text{ and action } a, s' \\text{ is next state for action } a$\n",
    "\n",
    "$V(s) = \\max_i Q(s, a_i), \\text{ Value function of state } s$ \n",
    "\n",
    "$a_{v(s)} = \\arg(\\max_i Q(s, a_i)), \\text{ Action for the value function}$\n",
    "\n",
    "$\\text{where,}$\n",
    "\n",
    "$s \\text{ and } s' \\in S, \\text{ State space, e.g. } S = \\{1, 2, 3, 4, 5, 6\\}$\n",
    "\n",
    "$a \\in A(s), \\text{ Action space in state } s, \\text{ e.g. if state is 2 then } A(2) = \\{1, 2, 3\\}$\n",
    "\n",
    "$R(s, a) \\text{ is rewards for taking an action } a \\text{ in state } s, \\text{ if state 3 and action is 4 then } R(3, 4) = -9$\n",
    "\n",
    "$Q(s, a) \\text{ is Q-value of state-action pair for state } s \\text{ and action } a$ \n",
    "\n",
    "In iteration 0, all Q-values are initialize with zero. So value function for each state also will be zero. As all Q-values are same (zero) for all state, so all action value for all state can be initialize with 1 (first action).\n",
    "\n",
    "Here we will see how Q-value, value function and action for value function is being updated with an example (lets for state 2). Other states will be updated similarly. Assuming we have updated table for iteration 0 and will update for iteration 1. In iteration 1, value function will be used from iteration 0 table.\n",
    "\n",
    "$Q(2, 1) = R(2, 1) + V(4) = -19 + 0 = -19$\n",
    "\n",
    "$Q(2, 2) = R(2, 2) + V(3) = -10 + 0 = -10$\n",
    "\n",
    "$Q(2, 3) = R(2, 3) + V(1) = -7 + 0 = -7$\n",
    "\n",
    "$V(2) = \\max(Q(2, 1), Q(2, 2), Q(2, 3)) = \\max(-19, -10, -7) = -7$\n",
    "\n",
    "$a_{v(2)} = \\arg(\\max(Q(2, 1), Q(2, 2), Q(2, 3))) = \\arg(\\max(-19, -10, -7)) = 3$\n",
    "\n"
   ]
  },
  {
   "cell_type": "code",
   "execution_count": 4,
   "metadata": {
    "colab": {},
    "colab_type": "code",
    "id": "_WVnQGUbgnST"
   },
   "outputs": [],
   "source": [
    "def update_q_values(state_dic):\n",
    "  q_dic = dict()\n",
    "  updated = False\n",
    "  for state in state_dic['states']:\n",
    "    for action in state_dic[state]['actions']:\n",
    "      next_state = state_dic[state][action]['next_state']\n",
    "      rewards = state_dic[state][action]['rewards']\n",
    "      next_state_value_fun = state_dic[next_state]['value_function']\n",
    "      if state_dic[state][action]['q_value'] != rewards + next_state_value_fun:\n",
    "        state_dic[state][action]['q_value'] = rewards + next_state_value_fun\n",
    "        updated = True\n",
    "      \n",
    "  # update value function\n",
    "  for state in state_dic['states']:\n",
    "    q_values = []\n",
    "    for key in state_dic[state]['actions']:\n",
    "      q_values.append(state_dic[state][key]['q_value'])\n",
    "    index, state_dic[state]['value_function'] = max(enumerate(q_values), key=itemgetter(1))\n",
    "    state_dic[state]['action_for_vf'] = index + 1\n",
    "    \n",
    "  return updated\n",
    "  "
   ]
  },
  {
   "cell_type": "markdown",
   "metadata": {},
   "source": [
    "### Print Q-table\n",
    "\n",
    "This function will be used to print Q-table."
   ]
  },
  {
   "cell_type": "code",
   "execution_count": 5,
   "metadata": {
    "colab": {},
    "colab_type": "code",
    "id": "Qn3ROK70XIQQ"
   },
   "outputs": [],
   "source": [
    "def print_q_values_table(state_dic):\n",
    "    \n",
    "  max_actions = 0\n",
    "  for state in state_dic['states']:\n",
    "    if len(state_dic[state]['actions']) > max_actions:\n",
    "      max_actions = len(state_dic[state]['actions'])\n",
    "  print_dic = dict()\n",
    "  print_dic[0] = ['state/action'] + [i for i in range(1, max_actions+1)] + ['value_function', 'action_for_vf']\n",
    "  \n",
    "  for state in state_dic['states']:\n",
    "    print_dic[state] = [state]\n",
    "    for action in state_dic[state]['actions']:\n",
    "      print_dic[state].append(state_dic[state][action]['q_value'])\n",
    "    for i in range(len(print_dic[state]), max_actions+1):\n",
    "      print_dic[state].append('')\n",
    "    print_dic[state].append(state_dic[state]['value_function'])\n",
    "    print_dic[state].append(state_dic[state]['action_for_vf'])\n",
    "    \n",
    "  rows = []\n",
    "  for key in print_dic.keys():\n",
    "    rows.append(print_dic[key])\n",
    "    \n",
    "  t = Texttable()\n",
    "  t.add_rows(rows)\n",
    "  print(t.draw())\n",
    "  return  "
   ]
  },
  {
   "cell_type": "markdown",
   "metadata": {},
   "source": [
    "### Final cell\n",
    "\n",
    "Following cell creating graph, updating Q-values and printing Q-table using above methods."
   ]
  },
  {
   "cell_type": "code",
   "execution_count": 6,
   "metadata": {
    "colab": {
     "base_uri": "https://localhost:8080/",
     "height": 1898
    },
    "colab_type": "code",
    "executionInfo": {
     "elapsed": 1087,
     "status": "ok",
     "timestamp": 1557827808029,
     "user": {
      "displayName": "Prakash Chandra",
      "photoUrl": "https://lh6.googleusercontent.com/-bMn3q1CKf50/AAAAAAAAAAI/AAAAAAAAAS4/ZSA6v-NHhS4/s64/photo.jpg",
      "userId": "10422130858424396378"
     },
     "user_tz": 420
    },
    "id": "Adc2tuxKgwHH",
    "outputId": "f432c087-fda4-4a59-eef9-69d6ac787d69"
   },
   "outputs": [
    {
     "name": "stdout",
     "output_type": "stream",
     "text": [
      "\n",
      "Iteration: 0\n",
      "+--------------+---+---+---+---+----------------+---------------+\n",
      "| state/action | 1 | 2 | 3 | 4 | value_function | action_for_vf |\n",
      "+==============+===+===+===+===+================+===============+\n",
      "| 1            | 0 | 0 | 0 |   | 0              | 1             |\n",
      "+--------------+---+---+---+---+----------------+---------------+\n",
      "| 2            | 0 | 0 | 0 |   | 0              | 1             |\n",
      "+--------------+---+---+---+---+----------------+---------------+\n",
      "| 3            | 0 | 0 | 0 | 0 | 0              | 1             |\n",
      "+--------------+---+---+---+---+----------------+---------------+\n",
      "| 4            | 0 | 0 | 0 |   | 0              | 1             |\n",
      "+--------------+---+---+---+---+----------------+---------------+\n",
      "| 5            | 0 | 0 | 0 |   | 0              | 1             |\n",
      "+--------------+---+---+---+---+----------------+---------------+\n",
      "\n",
      "Iteration: 1\n",
      "+--------------+-----+-----+-----+----+----------------+---------------+\n",
      "| state/action |  1  |  2  |  3  | 4  | value_function | action_for_vf |\n",
      "+==============+=====+=====+=====+====+================+===============+\n",
      "| 1            | -18 | -9  | -7  |    | -7             | 3             |\n",
      "+--------------+-----+-----+-----+----+----------------+---------------+\n",
      "| 2            | -19 | -10 | -7  |    | -7             | 3             |\n",
      "+--------------+-----+-----+-----+----+----------------+---------------+\n",
      "| 3            | -2  | -11 | -10 | -9 | -2             | 1             |\n",
      "+--------------+-----+-----+-----+----+----------------+---------------+\n",
      "| 4            | -6  | -11 | -19 |    | -6             | 1             |\n",
      "+--------------+-----+-----+-----+----+----------------+---------------+\n",
      "| 5            | -8  | -2  | -18 |    | -2             | 2             |\n",
      "+--------------+-----+-----+-----+----+----------------+---------------+\n",
      "\n",
      "Iteration: 2\n",
      "+--------------+-----+-----+-----+-----+----------------+---------------+\n",
      "| state/action |  1  |  2  |  3  |  4  | value_function | action_for_vf |\n",
      "+==============+=====+=====+=====+=====+================+===============+\n",
      "| 1            | -20 | -11 | -14 |     | -11            | 2             |\n",
      "+--------------+-----+-----+-----+-----+----------------+---------------+\n",
      "| 2            | -25 | -12 | -14 |     | -12            | 2             |\n",
      "+--------------+-----+-----+-----+-----+----------------+---------------+\n",
      "| 3            | -4  | -17 | -17 | -16 | -4             | 1             |\n",
      "+--------------+-----+-----+-----+-----+----------------+---------------+\n",
      "| 4            | -6  | -13 | -26 |     | -6             | 1             |\n",
      "+--------------+-----+-----+-----+-----+----------------+---------------+\n",
      "| 5            | -8  | -4  | -25 |     | -4             | 2             |\n",
      "+--------------+-----+-----+-----+-----+----------------+---------------+\n",
      "\n",
      "Iteration: 3\n",
      "+--------------+-----+-----+-----+-----+----------------+---------------+\n",
      "| state/action |  1  |  2  |  3  |  4  | value_function | action_for_vf |\n",
      "+==============+=====+=====+=====+=====+================+===============+\n",
      "| 1            | -22 | -13 | -19 |     | -13            | 2             |\n",
      "+--------------+-----+-----+-----+-----+----------------+---------------+\n",
      "| 2            | -25 | -14 | -18 |     | -14            | 2             |\n",
      "+--------------+-----+-----+-----+-----+----------------+---------------+\n",
      "| 3            | -6  | -17 | -22 | -20 | -6             | 1             |\n",
      "+--------------+-----+-----+-----+-----+----------------+---------------+\n",
      "| 4            | -6  | -15 | -31 |     | -6             | 1             |\n",
      "+--------------+-----+-----+-----+-----+----------------+---------------+\n",
      "| 5            | -8  | -6  | -29 |     | -6             | 2             |\n",
      "+--------------+-----+-----+-----+-----+----------------+---------------+\n",
      "\n",
      "Iteration: 4\n",
      "+--------------+-----+-----+-----+-----+----------------+---------------+\n",
      "| state/action |  1  |  2  |  3  |  4  | value_function | action_for_vf |\n",
      "+==============+=====+=====+=====+=====+================+===============+\n",
      "| 1            | -24 | -15 | -21 |     | -15            | 2             |\n",
      "+--------------+-----+-----+-----+-----+----------------+---------------+\n",
      "| 2            | -25 | -16 | -20 |     | -16            | 2             |\n",
      "+--------------+-----+-----+-----+-----+----------------+---------------+\n",
      "| 3            | -8  | -17 | -24 | -22 | -8             | 1             |\n",
      "+--------------+-----+-----+-----+-----+----------------+---------------+\n",
      "| 4            | -6  | -17 | -33 |     | -6             | 1             |\n",
      "+--------------+-----+-----+-----+-----+----------------+---------------+\n",
      "| 5            | -8  | -8  | -31 |     | -8             | 1             |\n",
      "+--------------+-----+-----+-----+-----+----------------+---------------+\n",
      "\n",
      "Iteration: 5\n",
      "+--------------+-----+-----+-----+-----+----------------+---------------+\n",
      "| state/action |  1  |  2  |  3  |  4  | value_function | action_for_vf |\n",
      "+==============+=====+=====+=====+=====+================+===============+\n",
      "| 1            | -26 | -17 | -23 |     | -17            | 2             |\n",
      "+--------------+-----+-----+-----+-----+----------------+---------------+\n",
      "| 2            | -25 | -18 | -22 |     | -18            | 2             |\n",
      "+--------------+-----+-----+-----+-----+----------------+---------------+\n",
      "| 3            | -10 | -17 | -26 | -24 | -10            | 1             |\n",
      "+--------------+-----+-----+-----+-----+----------------+---------------+\n",
      "| 4            | -6  | -19 | -35 |     | -6             | 1             |\n",
      "+--------------+-----+-----+-----+-----+----------------+---------------+\n",
      "| 5            | -8  | -10 | -33 |     | -8             | 1             |\n",
      "+--------------+-----+-----+-----+-----+----------------+---------------+\n",
      "\n",
      "Iteration: 6\n",
      "+--------------+-----+-----+-----+-----+----------------+---------------+\n",
      "| state/action |  1  |  2  |  3  |  4  | value_function | action_for_vf |\n",
      "+==============+=====+=====+=====+=====+================+===============+\n",
      "| 1            | -26 | -19 | -25 |     | -19            | 2             |\n",
      "+--------------+-----+-----+-----+-----+----------------+---------------+\n",
      "| 2            | -25 | -20 | -24 |     | -20            | 2             |\n",
      "+--------------+-----+-----+-----+-----+----------------+---------------+\n",
      "| 3            | -10 | -17 | -28 | -26 | -10            | 1             |\n",
      "+--------------+-----+-----+-----+-----+----------------+---------------+\n",
      "| 4            | -6  | -21 | -37 |     | -6             | 1             |\n",
      "+--------------+-----+-----+-----+-----+----------------+---------------+\n",
      "| 5            | -8  | -12 | -35 |     | -8             | 1             |\n",
      "+--------------+-----+-----+-----+-----+----------------+---------------+\n",
      "\n",
      "Iteration: 7\n",
      "+--------------+-----+-----+-----+-----+----------------+---------------+\n",
      "| state/action |  1  |  2  |  3  |  4  | value_function | action_for_vf |\n",
      "+==============+=====+=====+=====+=====+================+===============+\n",
      "| 1            | -26 | -19 | -27 |     | -19            | 2             |\n",
      "+--------------+-----+-----+-----+-----+----------------+---------------+\n",
      "| 2            | -25 | -20 | -26 |     | -20            | 2             |\n",
      "+--------------+-----+-----+-----+-----+----------------+---------------+\n",
      "| 3            | -10 | -17 | -30 | -28 | -10            | 1             |\n",
      "+--------------+-----+-----+-----+-----+----------------+---------------+\n",
      "| 4            | -6  | -21 | -39 |     | -6             | 1             |\n",
      "+--------------+-----+-----+-----+-----+----------------+---------------+\n",
      "| 5            | -8  | -12 | -37 |     | -8             | 1             |\n",
      "+--------------+-----+-----+-----+-----+----------------+---------------+\n"
     ]
    }
   ],
   "source": [
    "updated = True\n",
    "iter_count = 0\n",
    "state = get_state()\n",
    "print('\\nIteration: {}'.format(iter_count))\n",
    "print_q_values_table(state)\n",
    "while updated:\n",
    "  iter_count += 1\n",
    "  updated = update_q_values(state)\n",
    "  if updated:\n",
    "    print('\\nIteration: {}'.format(iter_count))\n",
    "    print_q_values_table(state)\n",
    "  "
   ]
  },
  {
   "cell_type": "code",
   "execution_count": null,
   "metadata": {
    "colab": {},
    "colab_type": "code",
    "id": "QUC2ETNIqmvy"
   },
   "outputs": [],
   "source": []
  }
 ],
 "metadata": {
  "colab": {
   "collapsed_sections": [],
   "name": "rl_blog_1.ipynb",
   "provenance": [],
   "version": "0.3.2"
  },
  "kernelspec": {
   "display_name": "Python 3",
   "language": "python",
   "name": "python3"
  },
  "language_info": {
   "codemirror_mode": {
    "name": "ipython",
    "version": 3
   },
   "file_extension": ".py",
   "mimetype": "text/x-python",
   "name": "python",
   "nbconvert_exporter": "python",
   "pygments_lexer": "ipython3",
   "version": "3.7.3"
  }
 },
 "nbformat": 4,
 "nbformat_minor": 1
}
